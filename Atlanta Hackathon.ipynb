{
 "cells": [
  {
   "cell_type": "code",
   "execution_count": 3,
   "id": "96c405ef-6bd6-4698-880b-08036ee7b3d9",
   "metadata": {},
   "outputs": [],
   "source": [
    "import getpass\n",
    "import requests\n",
    "import json"
   ]
  },
  {
   "cell_type": "code",
   "execution_count": 4,
   "id": "8bf1e6ad-5d43-47ae-accd-7cc7201e4008",
   "metadata": {},
   "outputs": [
    {
     "name": "stdout",
     "output_type": "stream",
     "text": [
      " ············\n"
     ]
    }
   ],
   "source": [
    "host = 'https://sandbox.materialhub.org/'\n",
    "user = 'ray16'\n",
    "pswd = getpass.getpass()"
   ]
  },
  {
   "cell_type": "code",
   "execution_count": 6,
   "id": "db6d9dfc-853f-43ad-8dc5-226c38e12cc6",
   "metadata": {},
   "outputs": [],
   "source": [
    "my_metadata = dict()\n",
    "my_metadata['name'] = 'Ruijie Zhu'\n",
    "my_metadata['tag'] = 'attendance'\n",
    "my_metadata['affiliation'] = 'Northwestern University'\n",
    "my_metadata['ORCID'] = 'https://orcid.org/0000-0001-9316-7245'"
   ]
  },
  {
   "cell_type": "code",
   "execution_count": 7,
   "id": "591a5dd1-040b-4e56-9ea2-7ef634dfe019",
   "metadata": {},
   "outputs": [
    {
     "name": "stdout",
     "output_type": "stream",
     "text": [
      "{'name': 'Ruijie Zhu', 'tag': 'attendance', 'affiliation': 'Northwestern University', 'ORCID': 'https://orcid.org/0000-0001-9316-7245'}\n"
     ]
    }
   ],
   "source": [
    "print(my_metadata)"
   ]
  },
  {
   "cell_type": "code",
   "execution_count": 9,
   "id": "3c6961aa-5e49-440f-851d-6495bb597584",
   "metadata": {},
   "outputs": [
    {
     "data": {
      "text/plain": [
       "'https://sandbox.materialhub.org/objects/'"
      ]
     },
     "execution_count": 9,
     "metadata": {},
     "output_type": "execute_result"
    }
   ],
   "source": [
    "endpoint = 'objects/'\n",
    "\n",
    "url = host+endpoint\n",
    "\n",
    "url"
   ]
  },
  {
   "cell_type": "code",
   "execution_count": 10,
   "id": "38bf5a9d-d3de-485a-8cf5-4b8818265102",
   "metadata": {},
   "outputs": [],
   "source": [
    "params = dict()\n",
    "params['type'] = 'hackathon'\n",
    "params['full'] = True"
   ]
  },
  {
   "cell_type": "code",
   "execution_count": 11,
   "id": "8f608266-eed1-428a-bb8c-e7ce379d2ad9",
   "metadata": {},
   "outputs": [],
   "source": [
    "r = requests.post(\n",
    "    url,\n",
    "    params=params,\n",
    "    data=json.dumps(my_metadata),\n",
    "    auth=(user,pswd)\n",
    ")"
   ]
  },
  {
   "cell_type": "code",
   "execution_count": 13,
   "id": "40c67ba2-07fc-4c41-b33e-44323995265a",
   "metadata": {},
   "outputs": [
    {
     "data": {
      "text/plain": [
       "200"
      ]
     },
     "execution_count": 13,
     "metadata": {},
     "output_type": "execute_result"
    }
   ],
   "source": [
    "r.status_code"
   ]
  },
  {
   "cell_type": "code",
   "execution_count": 16,
   "id": "a6eb3a48-3bc8-45c3-8a7e-29ebb433d803",
   "metadata": {},
   "outputs": [
    {
     "data": {
      "text/plain": [
       "{'Server': 'nginx/1.21.6', 'Date': 'Tue, 02 Aug 2022 15:07:58 GMT', 'Content-Type': 'application/json;charset=utf-8', 'Content-Length': '370', 'Connection': 'keep-alive', 'Request-Id': '50e3c3f7809d', 'X-Permission': 'WRITE', 'Location': '/objects/prefix/39dad8aa192008eca91c', 'X-Schema': 'hackathon', 'Vary': 'Accept-Encoding, User-Agent'}"
      ]
     },
     "execution_count": 16,
     "metadata": {},
     "output_type": "execute_result"
    }
   ],
   "source": [
    "r.headers"
   ]
  },
  {
   "cell_type": "code",
   "execution_count": 17,
   "id": "83a02055-91ee-482f-b4f2-6f23b542fe65",
   "metadata": {},
   "outputs": [
    {
     "data": {
      "text/plain": [
       "'utf-8'"
      ]
     },
     "execution_count": 17,
     "metadata": {},
     "output_type": "execute_result"
    }
   ],
   "source": [
    "r.encoding"
   ]
  },
  {
   "cell_type": "code",
   "execution_count": 19,
   "id": "02970958-ea79-4ba8-b960-e632aafee4bc",
   "metadata": {},
   "outputs": [
    {
     "data": {
      "text/plain": [
       "{'id': 'prefix/39dad8aa192008eca91c',\n",
       " 'type': 'hackathon',\n",
       " 'content': {'name': 'Ruijie Zhu',\n",
       "  'tag': 'attendance',\n",
       "  'affiliation': 'Northwestern University',\n",
       "  'ORCID': 'https://orcid.org/0000-0001-9316-7245'},\n",
       " 'metadata': {'createdOn': 1659452878773,\n",
       "  'createdBy': 'prefix/3414a25da3ad076404f1',\n",
       "  'modifiedOn': 1659452878773,\n",
       "  'modifiedBy': 'prefix/3414a25da3ad076404f1',\n",
       "  'txnId': 1659452878773028}}"
      ]
     },
     "execution_count": 19,
     "metadata": {},
     "output_type": "execute_result"
    }
   ],
   "source": [
    "r.json()"
   ]
  },
  {
   "cell_type": "code",
   "execution_count": 37,
   "id": "70ef6352-e06a-48d3-95d0-ec3b5b5de8ba",
   "metadata": {},
   "outputs": [],
   "source": [
    "record_id = 'prefix/39dad8aa192008eca91c'"
   ]
  },
  {
   "cell_type": "code",
   "execution_count": 27,
   "id": "f4cda40e-e397-44c8-bc88-4714df5c28a6",
   "metadata": {},
   "outputs": [],
   "source": [
    "url = host+endpoint+record_id"
   ]
  },
  {
   "cell_type": "code",
   "execution_count": 28,
   "id": "2af5150e-8481-484e-b7d6-eb45dd281bd5",
   "metadata": {},
   "outputs": [
    {
     "data": {
      "text/plain": [
       "'https://sandbox.materialhub.org/objects/prefix/39dad8aa192008eca91c'"
      ]
     },
     "execution_count": 28,
     "metadata": {},
     "output_type": "execute_result"
    }
   ],
   "source": [
    "url"
   ]
  },
  {
   "cell_type": "code",
   "execution_count": 29,
   "id": "6b58039c-f71f-4e74-af5a-1fdcb1ea92ae",
   "metadata": {},
   "outputs": [],
   "source": [
    "r2 = requests.get(url)"
   ]
  },
  {
   "cell_type": "code",
   "execution_count": 30,
   "id": "7836a367-5ad9-4a40-a88e-8eff4c34cce3",
   "metadata": {},
   "outputs": [
    {
     "data": {
      "text/plain": [
       "200"
      ]
     },
     "execution_count": 30,
     "metadata": {},
     "output_type": "execute_result"
    }
   ],
   "source": [
    "r2.status_code"
   ]
  },
  {
   "cell_type": "code",
   "execution_count": 35,
   "id": "99a78646-0427-46d7-b9a1-45ffb13e7523",
   "metadata": {},
   "outputs": [
    {
     "data": {
      "text/plain": [
       "{'name': 'Ruijie Zhu',\n",
       " 'tag': 'attendance',\n",
       " 'affiliation': 'Northwestern University',\n",
       " 'ORCID': 'https://orcid.org/0000-0001-9316-7245'}"
      ]
     },
     "execution_count": 35,
     "metadata": {},
     "output_type": "execute_result"
    }
   ],
   "source": [
    "content = r2.json()\n",
    "content"
   ]
  },
  {
   "cell_type": "code",
   "execution_count": 36,
   "id": "76826617-3b2f-4592-9833-f709a9b22e27",
   "metadata": {},
   "outputs": [
    {
     "data": {
      "text/plain": [
       "'Northwestern University'"
      ]
     },
     "execution_count": 36,
     "metadata": {},
     "output_type": "execute_result"
    }
   ],
   "source": [
    "content['affiliation']"
   ]
  },
  {
   "cell_type": "code",
   "execution_count": 38,
   "id": "05d2f7c6-e5e2-4f5c-ac09-50de474f734b",
   "metadata": {},
   "outputs": [],
   "source": [
    "record_id = 'prefix/oops'"
   ]
  },
  {
   "cell_type": "code",
   "execution_count": 39,
   "id": "45462bb5-90ee-494e-972e-75fe1d26342f",
   "metadata": {},
   "outputs": [],
   "source": [
    "url = host+endpoint+record_id"
   ]
  },
  {
   "cell_type": "code",
   "execution_count": 40,
   "id": "b296b985-2d85-4b02-b7d7-f9eeefcdade1",
   "metadata": {},
   "outputs": [
    {
     "data": {
      "text/plain": [
       "'https://sandbox.materialhub.org/objects/prefix/oops'"
      ]
     },
     "execution_count": 40,
     "metadata": {},
     "output_type": "execute_result"
    }
   ],
   "source": [
    "url"
   ]
  },
  {
   "cell_type": "code",
   "execution_count": 41,
   "id": "2cba9394-6aed-4afb-9095-1886c7da4f2a",
   "metadata": {},
   "outputs": [],
   "source": [
    "r3 = requests.get(url)"
   ]
  },
  {
   "cell_type": "code",
   "execution_count": 42,
   "id": "e29c20c0-230a-45b2-89b5-4ec72efcb6a9",
   "metadata": {},
   "outputs": [
    {
     "data": {
      "text/plain": [
       "404"
      ]
     },
     "execution_count": 42,
     "metadata": {},
     "output_type": "execute_result"
    }
   ],
   "source": [
    "r3.status_code"
   ]
  },
  {
   "cell_type": "code",
   "execution_count": 44,
   "id": "3180f0b0-1f0a-4108-8eba-1fae827e5e18",
   "metadata": {},
   "outputs": [
    {
     "data": {
      "text/plain": [
       "{'message': 'Missing object: prefix/oops'}"
      ]
     },
     "execution_count": 44,
     "metadata": {},
     "output_type": "execute_result"
    }
   ],
   "source": [
    "r3.json()"
   ]
  },
  {
   "cell_type": "code",
   "execution_count": 87,
   "id": "14ac8968-e3a1-494f-922f-425b4872b13c",
   "metadata": {},
   "outputs": [
    {
     "data": {
      "text/plain": [
       "'https://sandbox.materialhub.org/objects/'"
      ]
     },
     "execution_count": 87,
     "metadata": {},
     "output_type": "execute_result"
    }
   ],
   "source": [
    "endpoint = 'objects/'\n",
    "params = dict()\n",
    "params['query'] = '/tag:attendance'\n",
    "params['full'] = False\n",
    "\n",
    "url = host+endpoint\n",
    "url"
   ]
  },
  {
   "cell_type": "code",
   "execution_count": 88,
   "id": "35bf8378-f9f6-46c5-b8d9-6f06ddf10d29",
   "metadata": {},
   "outputs": [],
   "source": [
    "r4 = requests.get(url,params=params)"
   ]
  },
  {
   "cell_type": "code",
   "execution_count": 89,
   "id": "15d43b08-7fa3-4730-ac8b-45b5daba6dc6",
   "metadata": {},
   "outputs": [
    {
     "data": {
      "text/plain": [
       "200"
      ]
     },
     "execution_count": 89,
     "metadata": {},
     "output_type": "execute_result"
    }
   ],
   "source": [
    "r4.status_code"
   ]
  },
  {
   "cell_type": "code",
   "execution_count": 90,
   "id": "eab4f3d4-011c-4ebb-936c-38b25101ff9f",
   "metadata": {},
   "outputs": [
    {
     "data": {
      "text/plain": [
       "{'pageNum': 0,\n",
       " 'pageSize': -1,\n",
       " 'size': 7,\n",
       " 'results': [{'name': 'David S. Butcher',\n",
       "   'tag': 'attendance',\n",
       "   'affiliation': 'NHMFL',\n",
       "   'ORCID': 'https://orcid.org/0000-0002-1268-4150'},\n",
       "  {'name': 'Eva',\n",
       "   'afiliation': 'Ronin',\n",
       "   'tag': 'attendance',\n",
       "   'ORCID': 'https://orcid.org/0000-0002-9808-4112'},\n",
       "  {'name': 'Zachary Trautt',\n",
       "   'tag': 'attendance',\n",
       "   'affiliation': 'National Institute of Standards and Technology',\n",
       "   'ORCID': 'https://orcid.org/0000-0001-5929-0354'},\n",
       "  {'name': 'junlu',\n",
       "   'tag': 'attendance',\n",
       "   'afficiation': 'NHMFL',\n",
       "   'affiliation': 'National High Magnetic Field Laboratory'},\n",
       "  {'name': 'David S. Butcher',\n",
       "   'tag': 'attendance',\n",
       "   'affiliation': 'National High Magnetic Field Laboratory',\n",
       "   'ORCID': 'https://orcid.org/0000-0002-1268-4150'},\n",
       "  {'name': 'Eva',\n",
       "   'affiliation': 'The Ronin Institute for Scholarship',\n",
       "   'tag': 'attendance',\n",
       "   'ORCID': 'https://orcid.org/0000-0002-9808-4112'},\n",
       "  {'name': 'Ruijie Zhu',\n",
       "   'tag': 'attendance',\n",
       "   'affiliation': 'Northwestern University',\n",
       "   'ORCID': 'https://orcid.org/0000-0001-9316-7245'}]}"
      ]
     },
     "execution_count": 90,
     "metadata": {},
     "output_type": "execute_result"
    }
   ],
   "source": [
    "r4.json()"
   ]
  },
  {
   "cell_type": "code",
   "execution_count": 91,
   "id": "69ca22cc-2406-45ae-b025-b8d545624e98",
   "metadata": {},
   "outputs": [],
   "source": [
    "results = r4.json()['results']"
   ]
  },
  {
   "cell_type": "code",
   "execution_count": 92,
   "id": "4ae5e723-16fc-4583-99b4-e1202a225368",
   "metadata": {},
   "outputs": [],
   "source": [
    "import pandas as pd"
   ]
  },
  {
   "cell_type": "code",
   "execution_count": 93,
   "id": "67ba1144-4e3d-4cb8-8349-7248bdee5811",
   "metadata": {},
   "outputs": [],
   "source": [
    "df = pd.DataFrame.from_dict(results)"
   ]
  },
  {
   "cell_type": "code",
   "execution_count": 94,
   "id": "e30ee2ca-e550-4d84-a96f-c4baa5774f4d",
   "metadata": {},
   "outputs": [
    {
     "data": {
      "text/html": [
       "<div>\n",
       "<style scoped>\n",
       "    .dataframe tbody tr th:only-of-type {\n",
       "        vertical-align: middle;\n",
       "    }\n",
       "\n",
       "    .dataframe tbody tr th {\n",
       "        vertical-align: top;\n",
       "    }\n",
       "\n",
       "    .dataframe thead th {\n",
       "        text-align: right;\n",
       "    }\n",
       "</style>\n",
       "<table border=\"1\" class=\"dataframe\">\n",
       "  <thead>\n",
       "    <tr style=\"text-align: right;\">\n",
       "      <th></th>\n",
       "      <th>name</th>\n",
       "      <th>tag</th>\n",
       "      <th>affiliation</th>\n",
       "      <th>ORCID</th>\n",
       "      <th>afiliation</th>\n",
       "      <th>afficiation</th>\n",
       "    </tr>\n",
       "  </thead>\n",
       "  <tbody>\n",
       "    <tr>\n",
       "      <th>0</th>\n",
       "      <td>David S. Butcher</td>\n",
       "      <td>attendance</td>\n",
       "      <td>NHMFL</td>\n",
       "      <td>https://orcid.org/0000-0002-1268-4150</td>\n",
       "      <td>NaN</td>\n",
       "      <td>NaN</td>\n",
       "    </tr>\n",
       "    <tr>\n",
       "      <th>1</th>\n",
       "      <td>Eva</td>\n",
       "      <td>attendance</td>\n",
       "      <td>NaN</td>\n",
       "      <td>https://orcid.org/0000-0002-9808-4112</td>\n",
       "      <td>Ronin</td>\n",
       "      <td>NaN</td>\n",
       "    </tr>\n",
       "    <tr>\n",
       "      <th>2</th>\n",
       "      <td>Zachary Trautt</td>\n",
       "      <td>attendance</td>\n",
       "      <td>National Institute of Standards and Technology</td>\n",
       "      <td>https://orcid.org/0000-0001-5929-0354</td>\n",
       "      <td>NaN</td>\n",
       "      <td>NaN</td>\n",
       "    </tr>\n",
       "    <tr>\n",
       "      <th>3</th>\n",
       "      <td>junlu</td>\n",
       "      <td>attendance</td>\n",
       "      <td>National High Magnetic Field Laboratory</td>\n",
       "      <td>NaN</td>\n",
       "      <td>NaN</td>\n",
       "      <td>NHMFL</td>\n",
       "    </tr>\n",
       "    <tr>\n",
       "      <th>4</th>\n",
       "      <td>David S. Butcher</td>\n",
       "      <td>attendance</td>\n",
       "      <td>National High Magnetic Field Laboratory</td>\n",
       "      <td>https://orcid.org/0000-0002-1268-4150</td>\n",
       "      <td>NaN</td>\n",
       "      <td>NaN</td>\n",
       "    </tr>\n",
       "    <tr>\n",
       "      <th>5</th>\n",
       "      <td>Eva</td>\n",
       "      <td>attendance</td>\n",
       "      <td>The Ronin Institute for Scholarship</td>\n",
       "      <td>https://orcid.org/0000-0002-9808-4112</td>\n",
       "      <td>NaN</td>\n",
       "      <td>NaN</td>\n",
       "    </tr>\n",
       "    <tr>\n",
       "      <th>6</th>\n",
       "      <td>Ruijie Zhu</td>\n",
       "      <td>attendance</td>\n",
       "      <td>Northwestern University</td>\n",
       "      <td>https://orcid.org/0000-0001-9316-7245</td>\n",
       "      <td>NaN</td>\n",
       "      <td>NaN</td>\n",
       "    </tr>\n",
       "  </tbody>\n",
       "</table>\n",
       "</div>"
      ],
      "text/plain": [
       "               name         tag  \\\n",
       "0  David S. Butcher  attendance   \n",
       "1               Eva  attendance   \n",
       "2    Zachary Trautt  attendance   \n",
       "3             junlu  attendance   \n",
       "4  David S. Butcher  attendance   \n",
       "5               Eva  attendance   \n",
       "6        Ruijie Zhu  attendance   \n",
       "\n",
       "                                      affiliation  \\\n",
       "0                                           NHMFL   \n",
       "1                                             NaN   \n",
       "2  National Institute of Standards and Technology   \n",
       "3         National High Magnetic Field Laboratory   \n",
       "4         National High Magnetic Field Laboratory   \n",
       "5             The Ronin Institute for Scholarship   \n",
       "6                         Northwestern University   \n",
       "\n",
       "                                   ORCID afiliation afficiation  \n",
       "0  https://orcid.org/0000-0002-1268-4150        NaN         NaN  \n",
       "1  https://orcid.org/0000-0002-9808-4112      Ronin         NaN  \n",
       "2  https://orcid.org/0000-0001-5929-0354        NaN         NaN  \n",
       "3                                    NaN        NaN       NHMFL  \n",
       "4  https://orcid.org/0000-0002-1268-4150        NaN         NaN  \n",
       "5  https://orcid.org/0000-0002-9808-4112        NaN         NaN  \n",
       "6  https://orcid.org/0000-0001-9316-7245        NaN         NaN  "
      ]
     },
     "execution_count": 94,
     "metadata": {},
     "output_type": "execute_result"
    }
   ],
   "source": [
    "df"
   ]
  },
  {
   "cell_type": "code",
   "execution_count": 56,
   "id": "ec873a51-f1d5-41f9-a471-9cf4dc73ec30",
   "metadata": {},
   "outputs": [],
   "source": [
    "endpoint = 'objects/'\n",
    "params = dict()\n",
    "params['query'] = '/name:Butcher'\n",
    "params['full'] = True"
   ]
  },
  {
   "cell_type": "code",
   "execution_count": 57,
   "id": "0faf7313-89d6-4674-80d1-331f7997566c",
   "metadata": {},
   "outputs": [
    {
     "data": {
      "text/plain": [
       "{'pageNum': 0,\n",
       " 'pageSize': -1,\n",
       " 'size': 3,\n",
       " 'results': [{'id': 'prefix/dad9723295fd258ea058',\n",
       "   'type': 'hackathon',\n",
       "   'content': {'name': 'David S. Butcher',\n",
       "    'tag': 'attendance',\n",
       "    'affiliation': 'NHMFL',\n",
       "    'ORCID': 'https://orcid.org/0000-0002-1268-4150'},\n",
       "   'metadata': {'createdOn': 1659452879082,\n",
       "    'createdBy': 'prefix/90d9372fe898d7febfa0',\n",
       "    'modifiedOn': 1659452879082,\n",
       "    'modifiedBy': 'prefix/90d9372fe898d7febfa0',\n",
       "    'txnId': 1659452879082029}},\n",
       "  {'id': 'prefix/f643d24e6cab5ecdf82c',\n",
       "   'type': 'hackathon',\n",
       "   'content': {'name': 'David S. Butcher',\n",
       "    'tag': 'attendance',\n",
       "    'affiliation': 'NHMFL',\n",
       "    'ORCID': 'https://orcid.org/0000-0002-1268-4150'},\n",
       "   'metadata': {'createdOn': 1659452908695,\n",
       "    'createdBy': 'prefix/90d9372fe898d7febfa0',\n",
       "    'modifiedOn': 1659452908695,\n",
       "    'modifiedBy': 'prefix/90d9372fe898d7febfa0',\n",
       "    'txnId': 1659452908695032}},\n",
       "  {'id': 'prefix/90d9372fe898d7febfa0',\n",
       "   'type': 'User',\n",
       "   'content': {'@context': 'http://schema.org/',\n",
       "    '@type': 'Person',\n",
       "    '@id': 'prefix/90d9372fe898d7febfa0',\n",
       "    'username': 'dbutcher',\n",
       "    'password': '',\n",
       "    'identifier': [{'@type': 'PropertyValue',\n",
       "      'name': 'ORCID',\n",
       "      'value': '0000-0002-1268-4150',\n",
       "      'url': 'https://orcid.org/0000-0002-1268-4150'}],\n",
       "    'name': 'David S Butcher',\n",
       "    'metadata': {'createdOn': 1629808043539,\n",
       "     'createdBy': 'admin',\n",
       "     'modifiedOn': 1659451076906,\n",
       "     'modifiedBy': 'admin',\n",
       "     'txnId': 1659451076899024}},\n",
       "   'metadata': {'createdOn': 1629808043539,\n",
       "    'createdBy': 'admin',\n",
       "    'modifiedOn': 1659451076906,\n",
       "    'modifiedBy': 'admin',\n",
       "    'txnId': 1659451076899024}}]}"
      ]
     },
     "execution_count": 57,
     "metadata": {},
     "output_type": "execute_result"
    }
   ],
   "source": [
    "r5 = requests.get(url,params=params)\n",
    "r5.json()"
   ]
  },
  {
   "cell_type": "code",
   "execution_count": 78,
   "id": "75890981-9c3b-4d95-ac5d-3cd6ff8dd179",
   "metadata": {},
   "outputs": [],
   "source": [
    "record_id = 'prefix/39dad8aa192008eca91c'"
   ]
  },
  {
   "cell_type": "code",
   "execution_count": 79,
   "id": "1874f2b9-01be-45fb-ab70-26241058dbfd",
   "metadata": {},
   "outputs": [],
   "source": [
    "url = host+endpoint+record_id"
   ]
  },
  {
   "cell_type": "code",
   "execution_count": 80,
   "id": "e199acd2-8516-40ae-aee3-1bee28696066",
   "metadata": {},
   "outputs": [
    {
     "data": {
      "text/plain": [
       "'https://sandbox.materialhub.org/objects/prefix/39dad8aa192008eca91c'"
      ]
     },
     "execution_count": 80,
     "metadata": {},
     "output_type": "execute_result"
    }
   ],
   "source": [
    "url"
   ]
  },
  {
   "cell_type": "code",
   "execution_count": 81,
   "id": "7a312181-6b8d-4b2c-978d-5c3142cc23ba",
   "metadata": {},
   "outputs": [],
   "source": [
    "params = dict()\n",
    "params['jsonPointer'] = '/affiliation'"
   ]
  },
  {
   "cell_type": "code",
   "execution_count": 82,
   "id": "f756e916-2868-40cf-ab8e-fe2c653755cd",
   "metadata": {},
   "outputs": [],
   "source": [
    "r6 = requests.put(\n",
    "    url,\n",
    "    params=params,\n",
    "    data=json.dumps('Northwestern University'),\n",
    "    auth=(user,pswd)\n",
    ")"
   ]
  },
  {
   "cell_type": "code",
   "execution_count": 83,
   "id": "bdbfcaa2-0002-405c-aa7f-99d536dac035",
   "metadata": {},
   "outputs": [
    {
     "name": "stdout",
     "output_type": "stream",
     "text": [
      "200\n"
     ]
    }
   ],
   "source": [
    "print(r6.status_code)"
   ]
  },
  {
   "cell_type": "code",
   "execution_count": 84,
   "id": "f6b21f91-bf85-494b-81c8-22316c4fc9df",
   "metadata": {},
   "outputs": [
    {
     "data": {
      "text/plain": [
       "'Northwestern University'"
      ]
     },
     "execution_count": 84,
     "metadata": {},
     "output_type": "execute_result"
    }
   ],
   "source": [
    "r6.json()"
   ]
  },
  {
   "cell_type": "code",
   "execution_count": 100,
   "id": "88fbe27c-0a63-48a1-85a2-88bbc02e4bd8",
   "metadata": {},
   "outputs": [],
   "source": [
    "url = host+endpoint+record_id\n",
    "r7 = requests.get(url)"
   ]
  },
  {
   "cell_type": "code",
   "execution_count": 86,
   "id": "1749b190-c09a-454a-bdca-96fb52e57eb4",
   "metadata": {},
   "outputs": [
    {
     "data": {
      "text/plain": [
       "{'name': 'Ruijie Zhu',\n",
       " 'tag': 'attendance',\n",
       " 'affiliation': 'Northwestern University',\n",
       " 'ORCID': 'https://orcid.org/0000-0001-9316-7245'}"
      ]
     },
     "execution_count": 86,
     "metadata": {},
     "output_type": "execute_result"
    }
   ],
   "source": [
    "r7.json()"
   ]
  },
  {
   "cell_type": "code",
   "execution_count": 95,
   "id": "94fec016-9d9f-4092-a91c-4a09fba1a244",
   "metadata": {},
   "outputs": [
    {
     "data": {
      "text/plain": [
       "'https://sandbox.materialhub.org/objects/'"
      ]
     },
     "execution_count": 95,
     "metadata": {},
     "output_type": "execute_result"
    }
   ],
   "source": [
    "url"
   ]
  },
  {
   "cell_type": "code",
   "execution_count": 104,
   "id": "16fea6cd-9f02-4ac1-83ba-7ddd543206c8",
   "metadata": {},
   "outputs": [],
   "source": [
    "r8 = requests.delete(url,auth=(user,pswd))"
   ]
  },
  {
   "cell_type": "code",
   "execution_count": 105,
   "id": "145b92d6-7f0c-4238-a9a4-962ffcd26aef",
   "metadata": {},
   "outputs": [
    {
     "data": {
      "text/plain": [
       "200"
      ]
     },
     "execution_count": 105,
     "metadata": {},
     "output_type": "execute_result"
    }
   ],
   "source": [
    "r8.status_code"
   ]
  },
  {
   "cell_type": "code",
   "execution_count": 106,
   "id": "daa60046-0fea-4bea-87fe-8d1ccd2df21d",
   "metadata": {},
   "outputs": [
    {
     "data": {
      "text/plain": [
       "{}"
      ]
     },
     "execution_count": 106,
     "metadata": {},
     "output_type": "execute_result"
    }
   ],
   "source": [
    "r8.json()"
   ]
  },
  {
   "cell_type": "code",
   "execution_count": 130,
   "id": "82fa2a44-999a-45af-b87e-973d69ebf44e",
   "metadata": {},
   "outputs": [],
   "source": [
    "optimade_base_oqmd = 'http://www.materialscloud.org/optimade/'"
   ]
  },
  {
   "cell_type": "code",
   "execution_count": 131,
   "id": "37efd64a-95da-4961-a2c7-862cb48f332f",
   "metadata": {},
   "outputs": [],
   "source": [
    "endpoint = 'structures/'"
   ]
  },
  {
   "cell_type": "code",
   "execution_count": 132,
   "id": "2cbcfa64-530b-420e-9010-44e3c9432a72",
   "metadata": {},
   "outputs": [],
   "source": [
    "url = optimade_base_oqmd + endpoint\n",
    "r10 = requests.get(url)"
   ]
  },
  {
   "cell_type": "code",
   "execution_count": 133,
   "id": "efbbf537-b12d-4564-ad6f-6c1bf43b663d",
   "metadata": {},
   "outputs": [
    {
     "data": {
      "text/plain": [
       "404"
      ]
     },
     "execution_count": 133,
     "metadata": {},
     "output_type": "execute_result"
    }
   ],
   "source": [
    "r10.status_code"
   ]
  },
  {
   "cell_type": "code",
   "execution_count": 134,
   "id": "1834479f-ec74-443f-8e12-6d43e21e3d2c",
   "metadata": {},
   "outputs": [
    {
     "data": {
      "text/plain": [
       "'{\"meta\":{\"query\":{\"representation\":\"/structures/?\"},\"api_version\":\"1.1.0\",\"more_data_available\":false,\"time_stamp\":\"2022-08-02T16:01:30Z\",\"data_returned\":0,\"provider\":{\"name\":\"Materials Cloud\",\"description\":\"A platform for Open Science built for seamless sharing of resources in computational materials science\",\"prefix\":\"mcloud\",\"homepage\":\"https://www.materialscloud.org\"},\"data_available\":0,\"implementation\":{\"name\":\"optimade-python-tools (configured for Materials Cloud)\",\"version\":\"0.16.3\",\"source_url\":\"https://github.com/materialscloud-org/optimade-python-tools/tree/index_meta_db\",\"maintainer\":{\"email\":\"info@materialscloud.org\"}}},\"errors\":[{\"status\":\"404\",\"title\":\"HTTPException\",\"detail\":\"Not Found\"}]}'"
      ]
     },
     "execution_count": 134,
     "metadata": {},
     "output_type": "execute_result"
    }
   ],
   "source": [
    "r10.text"
   ]
  },
  {
   "cell_type": "code",
   "execution_count": null,
   "id": "9c534be3-be10-4fa1-b40a-2f5e98c91db4",
   "metadata": {},
   "outputs": [],
   "source": []
  }
 ],
 "metadata": {
  "kernelspec": {
   "display_name": "Python 3.9.13 64-bit",
   "language": "python",
   "name": "python3"
  },
  "language_info": {
   "codemirror_mode": {
    "name": "ipython",
    "version": 3
   },
   "file_extension": ".py",
   "mimetype": "text/x-python",
   "name": "python",
   "nbconvert_exporter": "python",
   "pygments_lexer": "ipython3",
   "version": "3.9.13"
  },
  "vscode": {
   "interpreter": {
    "hash": "aee8b7b246df8f9039afb4144a1f6fd8d2ca17a180786b69acc140d282b71a49"
   }
  }
 },
 "nbformat": 4,
 "nbformat_minor": 5
}
