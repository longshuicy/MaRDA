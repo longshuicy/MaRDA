{
 "cells": [
  {
   "cell_type": "code",
   "execution_count": 13,
   "metadata": {},
   "outputs": [],
   "source": [
    "import requests\n",
    "import json\n",
    "import os"
   ]
  },
  {
   "cell_type": "markdown",
   "metadata": {},
   "source": [
    "# Configuration\n",
    "Please replace the dataset id, file id, API keys and other user specific information to suit your own needs."
   ]
  },
  {
   "cell_type": "code",
   "execution_count": 14,
   "metadata": {},
   "outputs": [],
   "source": [
    "# special instance for MaRDA\n",
    "clowder_base_uri = \"http://141.142.220.44/api\""
   ]
  },
  {
   "attachments": {},
   "cell_type": "markdown",
   "metadata": {},
   "source": [
    "### How to get your API KEY\n",
    "![image.png](./images/API_keys_1.png)\n",
    "![image-2.png](./images/API_keys_2.png)"
   ]
  },
  {
   "cell_type": "code",
   "execution_count": 15,
   "metadata": {},
   "outputs": [],
   "source": [
    "base_headers = {'X-API-key': \"c79957c7-e223-4ace-b4fa-cf1cad205961\"}\n",
    "headers = {**base_headers, 'Content-type': 'application/json', \n",
    "           'accept': 'application/json'}"
   ]
  },
  {
   "cell_type": "markdown",
   "metadata": {},
   "source": [
    "# Create Collections"
   ]
  },
  {
   "cell_type": "code",
   "execution_count": 16,
   "metadata": {},
   "outputs": [],
   "source": [
    "def create_collection(clowder_base_uri, name, description='', space_id=''):\n",
    "    '''\n",
    "        param: name, description, spaces id \n",
    "        note: it's different from dataset, dataset can be added to multiple collections and spaces\n",
    "        here collection can only choose ONE space\n",
    "    '''\n",
    "\n",
    "    payload = json.dumps({'name': name,\n",
    "                          'description': description,\n",
    "                          'space': space_id\n",
    "                         })\n",
    "    r = requests.post(clowder_base_uri + '/collections',\n",
    "                     data=payload,\n",
    "                     headers=headers)\n",
    "    \n",
    "    if r.status_code == 200:\n",
    "        return r.json()\n",
    "    else:\n",
    "        return r.text"
   ]
  },
  {
   "cell_type": "markdown",
   "metadata": {},
   "source": [
    "# Function to create datasets under this collection"
   ]
  },
  {
   "cell_type": "code",
   "execution_count": 17,
   "metadata": {},
   "outputs": [],
   "source": [
    "def create_dataset(clowder_base_uri, name, description, access, space=None, collection=None):\n",
    "    '''\n",
    "     params: name, description, access: PUBLIC vs PRIVATE, \n",
    "         space: a list of string can be empty,\n",
    "         collection: a list of string, can be empty\n",
    "    '''\n",
    "\n",
    "    payload = json.dumps({'name':name, \n",
    "                          'description':description,\n",
    "                          'access':access,\n",
    "                          'space':space,\n",
    "                          'collection':collection}) \n",
    "\n",
    "    r = requests.post(clowder_base_uri + '/datasets/createempty',\n",
    "                     data=payload,\n",
    "                     headers=headers)\n",
    "    if r.status_code == 200:\n",
    "        return r.json()\n",
    "    else:\n",
    "        return r.text"
   ]
  },
  {
   "cell_type": "code",
   "execution_count": 18,
   "metadata": {},
   "outputs": [],
   "source": [
    "def create_folder(clowder_base_uri, name, parentDatasetId, parentId, parentType=\"dataset\"): \n",
    "    '''\n",
    "     parentId could be a folder Id; hence could be different (or the same)than parentDatasetId\n",
    "    '''\n",
    "\n",
    "    payload = json.dumps({\"name\": name, \n",
    "                           \"parentId\": parentDatasetId,\n",
    "                           \"parentType\": parentType # or folder\n",
    "                          }) \n",
    "\n",
    "    r = requests.post(clowder_base_uri + '/datasets/'+ parentDatasetId + '/newFolder',\n",
    "                     data=payload,\n",
    "                     headers=headers)\n",
    "    if r.status_code == 200:\n",
    "        return r.json()\n",
    "    else:\n",
    "        return r.text"
   ]
  },
  {
   "cell_type": "markdown",
   "metadata": {},
   "source": [
    "# Function to list files in a dataset"
   ]
  },
  {
   "cell_type": "code",
   "execution_count": 19,
   "metadata": {},
   "outputs": [],
   "source": [
    "def list_files_of_dataset(clowder_base_uri, dataset_id):\n",
    "    r = requests.get(clowder_base_uri + '/datasets/' + dataset_id + '/listFiles', # list those not infolder\n",
    "                     headers=headers)\n",
    "    if r.status_code == 200:\n",
    "        return r.json()\n",
    "    else:\n",
    "        return r.text"
   ]
  },
  {
   "cell_type": "markdown",
   "metadata": {},
   "source": [
    "# Function to upload files"
   ]
  },
  {
   "cell_type": "code",
   "execution_count": 20,
   "metadata": {},
   "outputs": [],
   "source": [
    "def upload_files_to_dataset(clowder_base_uri, dataset_id, folder_id, filenames):\n",
    "#     headers[\"Content-type\"] = 'multipart/form-data'\n",
    "    files = [('File', open(fname, 'rb')) for fname in filenames]\n",
    "    r = requests.post(clowder_base_uri + '/uploadToDataset/' + dataset_id + '?folder_id=' + folder_id,\n",
    "                      files=files, headers=base_headers)\n",
    "    if r.status_code == 200:\n",
    "        return r.json()\n",
    "    else:\n",
    "        return r.text"
   ]
  },
  {
   "cell_type": "raw",
   "metadata": {},
   "source": [
    "# test\n",
    "upload_files_to_dataset(clowder_base_uri, dataset_id = \"62ea77f8e4b062ab29aae48b\", \n",
    "                        folder_id = \"62ebdff7e4b0fd3895ba37af\", \n",
    "                        filenames = [\"./data/Spherical nanoindentation stress-strain curves of primary-α grains in Ti5-2.5 Ti811 Ti64 Ti6242 and Ti6246 alloys/Data Alpha Ti Alloys/Ti525/2019_06_14 Batch 15.2um/Batch #00001.bch\",\n",
    "                                    \"./data/Spherical nanoindentation stress-strain curves of primary-α grains in Ti5-2.5 Ti811 Ti64 Ti6242 and Ti6246 alloys/Data Alpha Ti Alloys/Ti525/2019_06_14 Batch 15.2um/Ti525_Sample3_3.mss\"])"
   ]
  },
  {
   "cell_type": "code",
   "execution_count": 21,
   "metadata": {},
   "outputs": [],
   "source": [
    "def move_files_to_folder(clowder_base_uri, dataset_id, folder_id, file_id):\n",
    "    '''\n",
    "    Move existing file to a new folder within the same dataset\n",
    "    '''\n",
    "    \n",
    "    payload = json.dumps({\"folderId\": folder_id}) \n",
    "\n",
    "    r = requests.post(clowder_base_uri + '/datasets/'  + dataset_id + '/moveFile/' + folder_id + '/' + file_id,\n",
    "                      data=payload,\n",
    "                      headers=base_headers)\n",
    "    if r.status_code == 200:\n",
    "        return r.json()\n",
    "    else:\n",
    "        return r.text"
   ]
  },
  {
   "cell_type": "markdown",
   "metadata": {},
   "source": [
    "## Function to Add Metadata"
   ]
  },
  {
   "cell_type": "code",
   "execution_count": 22,
   "metadata": {},
   "outputs": [],
   "source": [
    "def add_user_metadata_to_dataset(clowder_base_uri, dataset_id, metadata):\n",
    "    '''\n",
    "        metadata can be any key-value pair\n",
    "        default metadat: Audience, CSDMS Standard Name, Date and Time, Funding Institution, \n",
    "            GeoJSON, Grant Number, ODM2 Variable Name, Primary/Initial Publication, Principal Investigator(s),\n",
    "            References, Related Publications, SAS Spatial Geocode, SAS Variable Name, Time Periods, Unit\n",
    "    '''\n",
    "    \n",
    "    payload = json.dumps(metadata)\n",
    "    r = requests.post(clowder_base_uri + '/datasets/' + dataset_id +'/usermetadata',\n",
    "                     data=payload,\n",
    "                     headers=headers)\n",
    "    if r.status_code == 200:\n",
    "        return r.json()\n",
    "    else:\n",
    "        return r.text"
   ]
  },
  {
   "cell_type": "code",
   "execution_count": 23,
   "metadata": {},
   "outputs": [],
   "source": [
    "def add_user_metadata_to_file(clowder_base_uri, file_id, metadata):\n",
    "    '''\n",
    "     metadata can be any key-value pair.\n",
    "     a few fields that defaulted by clowder: Audience, CSDMS Standard Name, Date and Time, Funding Institution, \n",
    "        GeoJSON, Grant Number, ODM2 Variable Name, Primary/Initial Publication, Principal Investigator(s),\n",
    "        References, Related Publications, SAS Spatial Geocode, SAS Variable Name, Time Periods, Unit\n",
    "    '''\n",
    "    \n",
    "    payload = json.dumps(metadata)\n",
    "    r = requests.post(clowder_base_uri + '/files/' + file_id +'/usermetadata',\n",
    "                     data=payload,\n",
    "                     headers=headers)\n",
    "    if r.status_code == 200:\n",
    "        return r.json()\n",
    "    else:\n",
    "        return r.text"
   ]
  },
  {
   "cell_type": "markdown",
   "metadata": {},
   "source": [
    "## loop through the folder structure on host machine and batch publish"
   ]
  },
  {
   "cell_type": "code",
   "execution_count": 24,
   "metadata": {},
   "outputs": [
    {
     "name": "stdout",
     "output_type": "stream",
     "text": [
      "Collection Spherical nanoindentation stress-strain curves of primary-α grains in Ti5-2.5, Ti811, Ti64, Ti6242 and Ti6246 alloys(62ec0b93e4b0fd3895ba4245) created.\n",
      "\n",
      "=========\n",
      "dataset Ti811(62ec0b94e4b0fd3895ba4249) created.\n",
      "folder 2019_04_29 Batch 15.2um(62ec0b94e4b0fd3895ba424f) created.\n",
      "file Batch #00001.bch(62ec0b99e4b0fd3895ba4252) uploaded.\n",
      "file Ti811_Sample11_2.xls(62ec0b99e4b0fd3895ba4254) uploaded.\n",
      "file Ti811_Sample11_2.mss(62ec0b99e4b0fd3895ba4257) uploaded.\n",
      "folder 2019_03_29 Batch 15.2um(62ec0b99e4b0fd3895ba4269) created.\n",
      "file Batch #00001.bch(62ec0ba5e4b0fd3895ba4280) uploaded.\n",
      "file Ti811_Sample11_1.xls(62ec0ba5e4b0fd3895ba4282) uploaded.\n",
      "file Ti811_Sample11_1.mss(62ec0ba5e4b0fd3895ba4285) uploaded.\n",
      "folder 2019_07_09 Batch 15.2um(62ec0ba6e4b0fd3895ba4297) created.\n",
      "file Batch #00001.bch(62ec0bace4b0fd3895ba42ad) uploaded.\n",
      "file Ti811_Sample11_3.xls(62ec0bace4b0fd3895ba42af) uploaded.\n",
      "file Ti811_Sample11_3.mss(62ec0bace4b0fd3895ba42b2) uploaded.\n",
      "\n",
      "=========\n",
      "dataset Ti6246(62ec0bade4b0fd3895ba42c5) created.\n",
      "folder 2019_08_22 15.2um(62ec0bade4b0fd3895ba42cb) created.\n",
      "file Batch #00001.bch(62ec0baee4b0fd3895ba42d7) uploaded.\n",
      "file Ti6246_IISC_6.mss(62ec0baee4b0fd3895ba42d9) uploaded.\n",
      "file Ti6246_IISC_6.xls(62ec0baee4b0fd3895ba42dd) uploaded.\n",
      "folder 2019_08_18 15.2um(62ec0baee4b0fd3895ba42e9) created.\n",
      "file Batch #00001.bch(62ec0bb8e4b0fd3895ba430e) uploaded.\n",
      "file Ti6246_IISC_3.xls(62ec0bb8e4b0fd3895ba4310) uploaded.\n",
      "file Ti6246_IISC_3.mss(62ec0bb8e4b0fd3895ba4313) uploaded.\n",
      "file Ti6246_IISC_3.rtf(62ec0bb8e4b0fd3895ba4316) uploaded.\n",
      "folder 2019_08_22.2 15.2um(62ec0bb8e4b0fd3895ba4329) created.\n",
      "file Batch #00002.bch(62ec0bc0e4b0fd3895ba434a) uploaded.\n",
      "file Ti6246_IISC_7.mss(62ec0bc0e4b0fd3895ba434c) uploaded.\n",
      "file Ti6246_IISC_7.xls(62ec0bc0e4b0fd3895ba434f) uploaded.\n",
      "folder 2019_08_16 15.2um(62ec0bc0e4b0fd3895ba4361) created.\n",
      "file Batch #00001.bch(62ec0bc9e4b0fd3895ba4377) uploaded.\n",
      "file Ti6246_IISC_1.xls(62ec0bc9e4b0fd3895ba4379) uploaded.\n",
      "file Ti6246_IISC_1.mss(62ec0bc9e4b0fd3895ba437c) uploaded.\n",
      "folder 2019_08_19 15.2um(62ec0bc9e4b0fd3895ba438f) created.\n",
      "file Batch #00001.bch(62ec0bcee4b0fd3895ba43a4) uploaded.\n",
      "file Ti6246_IISC_4.mss(62ec0bcee4b0fd3895ba43a6) uploaded.\n",
      "file Ti6246_IISC_4.xls(62ec0bcee4b0fd3895ba43a9) uploaded.\n",
      "folder 2019_08_17 15.2um(62ec0bcee4b0fd3895ba43bb) created.\n",
      "file Batch #00001.bch(62ec0bd5e4b0fd3895ba43d1) uploaded.\n",
      "file Ti6246_IISC_2.xls(62ec0bd5e4b0fd3895ba43d3) uploaded.\n",
      "file Ti6246_IISC_2.mss(62ec0bd5e4b0fd3895ba43d6) uploaded.\n",
      "file Ti6246_IISC_2.rtf(62ec0bd5e4b0fd3895ba43d9) uploaded.\n",
      "folder 2019_08_21 15.2um(62ec0bd5e4b0fd3895ba43ef) created.\n",
      "file Batch #00002.bch(62ec0bd9e4b0fd3895ba440a) uploaded.\n",
      "file Ti6246_IISC_5.mss(62ec0bd9e4b0fd3895ba440c) uploaded.\n",
      "file Ti6246_IISC_5.xls(62ec0bd9e4b0fd3895ba440f) uploaded.\n",
      "\n",
      "=========\n",
      "dataset Ti6242(62ec0bd9e4b0fd3895ba441d) created.\n",
      "folder 2019_05_23 Batch 15.2um(62ec0bd9e4b0fd3895ba4423) created.\n",
      "file Ti6242_IISC_1.xls(62ec0be7e4b0fd3895ba4441) uploaded.\n",
      "file Batch #00001.bch(62ec0be7e4b0fd3895ba4443) uploaded.\n",
      "file Ti6242_IISC_1.mss(62ec0be7e4b0fd3895ba4446) uploaded.\n",
      "\n",
      "=========\n",
      "dataset Ti64(62ec0be7e4b0fd3895ba4459) created.\n",
      "folder 2018_12_04 15.2um(62ec0be7e4b0fd3895ba445f) created.\n",
      "file Batch #00001.bch(62ec0bf8e4b0fd3895ba4475) uploaded.\n",
      "file Ti64_Sample8_1.xls(62ec0bf8e4b0fd3895ba4477) uploaded.\n",
      "file Ti64_Sample8_1.mss(62ec0bf8e4b0fd3895ba447a) uploaded.\n",
      "\n",
      "=========\n",
      "dataset Ti525(62ec0bf8e4b0fd3895ba448e) created.\n",
      "folder 2019_03_27 Batch 15.2um(62ec0bf8e4b0fd3895ba4494) created.\n",
      "file Ti525_ Sample3_1.rtf(62ec0c0de4b0fd3895ba44b0) uploaded.\n",
      "file Ti525_ Sample3_1(62ec0c0de4b0fd3895ba44b2) uploaded.\n",
      "file Batch #00001.bch(62ec0c0de4b0fd3895ba44b5) uploaded.\n",
      "file Ti525_ Sample3_1.xls(62ec0c0de4b0fd3895ba44b8) uploaded.\n",
      "folder 2019_06_14 Batch 15.2um(62ec0c0de4b0fd3895ba44cd) created.\n",
      "file Ti525_Sample3_3.xls(62ec0c19e4b0fd3895ba44eb) uploaded.\n",
      "file Batch #00001.bch(62ec0c19e4b0fd3895ba44ed) uploaded.\n",
      "file Ti525_Sample3_3.mss(62ec0c19e4b0fd3895ba44f0) uploaded.\n",
      "file Ti525_Sample3_3.rtf(62ec0c19e4b0fd3895ba44f3) uploaded.\n",
      "folder 2019_05_08 Batch 15.2um(62ec0c19e4b0fd3895ba4503) created.\n",
      "file Ti525_Sample3_2(62ec0c2be4b0fd3895ba4527) uploaded.\n",
      "file Batch #00001.bch(62ec0c2be4b0fd3895ba4529) uploaded.\n",
      "file Ti525_Sample3_2.xls(62ec0c2be4b0fd3895ba452c) uploaded.\n",
      "file Ti525_Sample3_2.rtf(62ec0c2be4b0fd3895ba452f) uploaded.\n"
     ]
    }
   ],
   "source": [
    "# you can put a collection under a certain space\n",
    "space_id = \"62ebdf11e4b0fd3895ba3788\"\n",
    "collection_name = \"Spherical nanoindentation stress-strain curves of primary-α grains in Ti5-2.5, Ti811, Ti64, Ti6242 and Ti6246 \\\n",
    "alloys\"\n",
    "collection_description = \"Recently established spherical indentation stress-strain protocols have demonstrated the feasibility \\\n",
    "of measuring reliably the mechanical responses at different material structure length scales in a broad range of \\\n",
    "structural alloys. In the present study, we apply these high-throughput protocols on the primary α-phase grains in\\\n",
    "polycrystalline samples of Ti-5Al-2.5Sn, Ti-8Al-1Mo-1V, Ti-6Al-4V, Ti-6Al-2Sn-4Zr-2Mo and Ti-6Al-2Sn-4Zr-6Mo to \\\n",
    "aggregate a large experimental dataset that documents systematically the effects of α -phase chemical composition \\\n",
    "and grain orientation on the measured values of indentation modulus and the indentation yield strength. This dataset\\\n",
    "is being offered to the materials community in an open repository to allow further analyses of the effect of chemical\\\n",
    "composition of the α -phase on its single crystal elastic and plastic properties. This study clearly establishes the \\\n",
    "feasibility and tremendous value of spherical indentation stress-strain protocols for documenting the grain-scale \\\n",
    "anisotropic mechanical responses of different α -phase compositions in high-throughput assays.\"\n",
    "\n",
    "response = create_collection(clowder_base_uri, collection_name, collection_description, space_id)\n",
    "collection_id = response[\"id\"]\n",
    "print(\"Collection \" + collection_name + \"(\" + collection_id + \")\" + \" created.\")\n",
    "\n",
    "path = \"./data/Spherical nanoindentation stress-strain curves of primary-α grains in Ti5-2.5 Ti811 Ti64 Ti6242 \\\n",
    "and Ti6246 alloys/Data Alpha Ti Alloys/\"\n",
    "dataset_names = [d for d in os.listdir(path) if os.path.isdir(os.path.join(path, d))]\n",
    "\n",
    "for dataset_name in dataset_names:\n",
    "    \n",
    "    # create dataset\n",
    "    dataset_resp = create_dataset(clowder_base_uri, \n",
    "                                  name=dataset_name, \n",
    "                                  description=dataset_name, \n",
    "                                  access=\"PUBLIC\", # \"PUBLIC or PRIVATE\"\n",
    "                                  space=[space_id], # put it in a space\n",
    "                                  collection=[collection_id]) # collection id we previously created\n",
    "    \n",
    "    dataset_id = dataset_resp[\"id\"]\n",
    "    print(\"\\n=========\")\n",
    "    print(\"dataset \" + dataset_name + \"(\" + dataset_id + \")\" + \" created.\")\n",
    "    \n",
    "    # create folder\n",
    "    folder_names = [f for f in os.listdir(os.path.join(path, dataset_name))\n",
    "                                          if os.path.isdir(os.path.join(path, dataset_name, f))]\n",
    "    for folder_name in folder_names:\n",
    "        folder_resp = create_folder(clowder_base_uri, \n",
    "                                      folder_name, \n",
    "                                      parentDatasetId=dataset_id, \n",
    "                                      parentId=dataset_id, \n",
    "                                      parentType=\"dataset\")\n",
    "        folder_id = folder_resp[\"id\"]\n",
    "        print(\"folder \" + folder_name + \"(\" + folder_id + \")\" + \" created.\")\n",
    "        \n",
    "        # upload files\n",
    "        file_fullpaths = [os.path.join(path, dataset_name, folder_name, file)\n",
    "                          for file in os.listdir(os.path.join(path, dataset_name, folder_name)) \n",
    "                          if os.path.isfile(os.path.join(path, dataset_name, folder_name, file))]\n",
    "        file_resp = upload_files_to_dataset(clowder_base_uri, dataset_id, folder_id, file_fullpaths)\n",
    "        for f in file_resp[\"ids\"]:\n",
    "            print(\"file \" + f[\"name\"] + \"(\" + f[\"id\"] + \")\" + \" uploaded.\")"
   ]
  },
  {
   "cell_type": "raw",
   "metadata": {},
   "source": [
    "add_user_metadata_to_dataset('6220ecb7e4b01a9f2e1f58b0', {'time':'now','author':'chen','email':'cwang138@illinois.edu'})"
   ]
  },
  {
   "cell_type": "raw",
   "metadata": {},
   "source": [
    "add_user_metadata_to_file('6220ef39e4b01a9f2e1f58dc', {'Audience':'chen wang','lalal':'lalalala'})"
   ]
  }
 ],
 "metadata": {
  "kernelspec": {
   "display_name": "Python 3 (ipykernel)",
   "language": "python",
   "name": "python3"
  },
  "language_info": {
   "codemirror_mode": {
    "name": "ipython",
    "version": 3
   },
   "file_extension": ".py",
   "mimetype": "text/x-python",
   "name": "python",
   "nbconvert_exporter": "python",
   "pygments_lexer": "ipython3",
   "version": "3.8.13"
  }
 },
 "nbformat": 4,
 "nbformat_minor": 2
}
