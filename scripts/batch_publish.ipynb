{
 "cells": [
  {
   "cell_type": "code",
   "execution_count": null,
   "metadata": {},
   "outputs": [],
   "source": [
    "import requests\n",
    "import json\n",
    "import os"
   ]
  },
  {
   "cell_type": "markdown",
   "metadata": {},
   "source": [
    "# Configuration\n",
    "Please replace the dataset id, file id, API keys and other user specific information to suit your own needs."
   ]
  },
  {
   "cell_type": "code",
   "execution_count": null,
   "metadata": {},
   "outputs": [],
   "source": [
    "# special instance for MaRDA\n",
    "clowder_base_uri = \"http://141.142.220.44/api\""
   ]
  },
  {
   "attachments": {},
   "cell_type": "raw",
   "metadata": {},
   "source": [
    "### How to get your API KEY\n",
    "![image.png](./images/API_keys_1.png)\n",
    "![image-2.png](./images/API_keys_2.png)"
   ]
  },
  {
   "cell_type": "code",
   "execution_count": null,
   "metadata": {},
   "outputs": [],
   "source": [
    "base_headers = {'X-API-key': \"replace with your own key\"}\n",
    "headers = {**base_headers, 'Content-type': 'application/json', \n",
    "           'accept': 'application/json'}"
   ]
  },
  {
   "cell_type": "markdown",
   "metadata": {},
   "source": [
    "# Create Collections"
   ]
  },
  {
   "cell_type": "code",
   "execution_count": null,
   "metadata": {},
   "outputs": [],
   "source": [
    "def create_collection(clowder_base_uri, name, description='', space_id=''):\n",
    "    '''\n",
    "        param: name, description, spaces id \n",
    "        note: it's different from dataset, dataset can be added to multiple collections and spaces\n",
    "        here collection can only choose ONE space\n",
    "    '''\n",
    "\n",
    "    payload = json.dumps({'name': name,\n",
    "                          'description': description,\n",
    "                          'space': space_id\n",
    "                         })\n",
    "    r = requests.post(clowder_base_uri + '/collections',\n",
    "                     data=payload,\n",
    "                     headers=headers)\n",
    "    \n",
    "    if r.status_code == 200:\n",
    "        return r.json()\n",
    "    else:\n",
    "        return r.text"
   ]
  },
  {
   "cell_type": "markdown",
   "metadata": {},
   "source": [
    "# Function to create datasets under this collection"
   ]
  },
  {
   "cell_type": "code",
   "execution_count": null,
   "metadata": {},
   "outputs": [],
   "source": [
    "def create_dataset(clowder_base_uri, name, description, access, space=None, collection=None):\n",
    "    '''\n",
    "     params: name, description, access: PUBLIC vs PRIVATE, \n",
    "         space: a list of string can be empty,\n",
    "         collection: a list of string, can be empty\n",
    "    '''\n",
    "\n",
    "    payload = json.dumps({'name':name, \n",
    "                          'description':description,\n",
    "                          'access':access,\n",
    "                          'space':space,\n",
    "                          'collection':collection}) \n",
    "\n",
    "    r = requests.post(clowder_base_uri + '/datasets/createempty',\n",
    "                     data=payload,\n",
    "                     headers=headers)\n",
    "    if r.status_code == 200:\n",
    "        return r.json()\n",
    "    else:\n",
    "        return r.text"
   ]
  },
  {
   "cell_type": "code",
   "execution_count": null,
   "metadata": {},
   "outputs": [],
   "source": [
    "def create_folder(clowder_base_uri, name, parentDatasetId, parentId, parentType=\"dataset\"): \n",
    "    '''\n",
    "     parentId could be a folder Id; hence could be different (or the same)than parentDatasetId\n",
    "    '''\n",
    "\n",
    "    payload = json.dumps({\"name\": name, \n",
    "                           \"parentId\": parentDatasetId,\n",
    "                           \"parentType\": parentType # or folder\n",
    "                          }) \n",
    "\n",
    "    r = requests.post(clowder_base_uri + '/datasets/'+ parentDatasetId + '/newFolder',\n",
    "                     data=payload,\n",
    "                     headers=headers)\n",
    "    if r.status_code == 200:\n",
    "        return r.json()\n",
    "    else:\n",
    "        return r.text"
   ]
  },
  {
   "cell_type": "markdown",
   "metadata": {},
   "source": [
    "# Function to list files in a dataset"
   ]
  },
  {
   "cell_type": "code",
   "execution_count": null,
   "metadata": {},
   "outputs": [],
   "source": [
    "def list_files_of_dataset(clowder_base_uri, dataset_id):\n",
    "    r = requests.get(clowder_base_uri + '/datasets/' + dataset_id + '/listFiles', # list those not infolder\n",
    "                     headers=headers)\n",
    "    if r.status_code == 200:\n",
    "        return r.json()\n",
    "    else:\n",
    "        return r.text"
   ]
  },
  {
   "cell_type": "markdown",
   "metadata": {},
   "source": [
    "# Function to upload files"
   ]
  },
  {
   "cell_type": "code",
   "execution_count": null,
   "metadata": {},
   "outputs": [],
   "source": [
    "def upload_files_to_dataset(clowder_base_uri, dataset_id, folder_id, filenames):\n",
    "#     headers[\"Content-type\"] = 'multipart/form-data'\n",
    "    files = [('File', open(fname, 'rb')) for fname in filenames]\n",
    "    r = requests.post(clowder_base_uri + '/uploadToDataset/' + dataset_id + '?folder_id=' + folder_id,\n",
    "                      files=files, headers=base_headers)\n",
    "    if r.status_code == 200:\n",
    "        return r.json()\n",
    "    else:\n",
    "        return r.text"
   ]
  },
  {
   "cell_type": "raw",
   "metadata": {},
   "source": [
    "# test\n",
    "upload_files_to_dataset(clowder_base_uri, dataset_id = \"62ea77f8e4b062ab29aae48b\", \n",
    "                        folder_id = \"62ebdff7e4b0fd3895ba37af\", \n",
    "                        filenames = [\"./data/Spherical nanoindentation stress-strain curves of primary-α grains in Ti5-2.5 Ti811 Ti64 Ti6242 and Ti6246 alloys/Data Alpha Ti Alloys/Ti525/2019_06_14 Batch 15.2um/Batch #00001.bch\",\n",
    "                                    \"./data/Spherical nanoindentation stress-strain curves of primary-α grains in Ti5-2.5 Ti811 Ti64 Ti6242 and Ti6246 alloys/Data Alpha Ti Alloys/Ti525/2019_06_14 Batch 15.2um/Ti525_Sample3_3.mss\"])"
   ]
  },
  {
   "cell_type": "code",
   "execution_count": null,
   "metadata": {},
   "outputs": [],
   "source": [
    "def move_files_to_folder(clowder_base_uri, dataset_id, folder_id, file_id):\n",
    "    '''\n",
    "    Move existing file to a new folder within the same dataset\n",
    "    '''\n",
    "    \n",
    "    payload = json.dumps({\"folderId\": folder_id}) \n",
    "\n",
    "    r = requests.post(clowder_base_uri + '/datasets/'  + dataset_id + '/moveFile/' + folder_id + '/' + file_id,\n",
    "                      data=payload,\n",
    "                      headers=base_headers)\n",
    "    if r.status_code == 200:\n",
    "        return r.json()\n",
    "    else:\n",
    "        return r.text"
   ]
  },
  {
   "cell_type": "markdown",
   "metadata": {},
   "source": [
    "## Function to Add Metadata"
   ]
  },
  {
   "cell_type": "code",
   "execution_count": null,
   "metadata": {},
   "outputs": [],
   "source": [
    "def add_user_metadata_to_dataset(clowder_base_uri, dataset_id, metadata):\n",
    "    '''\n",
    "        metadata can be any key-value pair\n",
    "        default metadat: Audience, CSDMS Standard Name, Date and Time, Funding Institution, \n",
    "            GeoJSON, Grant Number, ODM2 Variable Name, Primary/Initial Publication, Principal Investigator(s),\n",
    "            References, Related Publications, SAS Spatial Geocode, SAS Variable Name, Time Periods, Unit\n",
    "    '''\n",
    "    \n",
    "    payload = json.dumps(metadata)\n",
    "    r = requests.post(clowder_base_uri + '/datasets/' + dataset_id +'/usermetadata',\n",
    "                     data=payload,\n",
    "                     headers=headers)\n",
    "    if r.status_code == 200:\n",
    "        return r.json()\n",
    "    else:\n",
    "        return r.text"
   ]
  },
  {
   "cell_type": "code",
   "execution_count": null,
   "metadata": {},
   "outputs": [],
   "source": [
    "def add_user_metadata_to_file(clowder_base_uri, file_id, metadata):\n",
    "    '''\n",
    "     metadata can be any key-value pair.\n",
    "     a few fields that defaulted by clowder: Audience, CSDMS Standard Name, Date and Time, Funding Institution, \n",
    "        GeoJSON, Grant Number, ODM2 Variable Name, Primary/Initial Publication, Principal Investigator(s),\n",
    "        References, Related Publications, SAS Spatial Geocode, SAS Variable Name, Time Periods, Unit\n",
    "    '''\n",
    "    \n",
    "    payload = json.dumps(metadata)\n",
    "    r = requests.post(clowder_base_uri + '/files/' + file_id +'/usermetadata',\n",
    "                     data=payload,\n",
    "                     headers=headers)\n",
    "    if r.status_code == 200:\n",
    "        return r.json()\n",
    "    else:\n",
    "        return r.text"
   ]
  },
  {
   "cell_type": "markdown",
   "metadata": {},
   "source": [
    "## loop through the folder structure on host machine and batch publish"
   ]
  },
  {
   "cell_type": "code",
   "execution_count": null,
   "metadata": {},
   "outputs": [],
   "source": [
    "# you can put a collection under a certain space\n",
    "space_id = \"62ebdf11e4b0fd3895ba3788\"\n",
    "collection_name = \"Spherical nanoindentation stress-strain curves of primary-α grains in Ti5-2.5, Ti811, Ti64, Ti6242 and Ti6246 \\\n",
    "alloys\"\n",
    "collection_description = \"Recently established spherical indentation stress-strain protocols have demonstrated the feasibility \\\n",
    "of measuring reliably the mechanical responses at different material structure length scales in a broad range of \\\n",
    "structural alloys. In the present study, we apply these high-throughput protocols on the primary α-phase grains in\\\n",
    "polycrystalline samples of Ti-5Al-2.5Sn, Ti-8Al-1Mo-1V, Ti-6Al-4V, Ti-6Al-2Sn-4Zr-2Mo and Ti-6Al-2Sn-4Zr-6Mo to \\\n",
    "aggregate a large experimental dataset that documents systematically the effects of α -phase chemical composition \\\n",
    "and grain orientation on the measured values of indentation modulus and the indentation yield strength. This dataset\\\n",
    "is being offered to the materials community in an open repository to allow further analyses of the effect of chemical\\\n",
    "composition of the α -phase on its single crystal elastic and plastic properties. This study clearly establishes the \\\n",
    "feasibility and tremendous value of spherical indentation stress-strain protocols for documenting the grain-scale \\\n",
    "anisotropic mechanical responses of different α -phase compositions in high-throughput assays.\"\n",
    "\n",
    "response = create_collection(clowder_base_uri, collection_name, collection_description, space_id)\n",
    "collection_id = response[\"id\"]\n",
    "print(\"Collection \" + collection_name + \"(\" + collection_id + \")\" + \" created.\")\n",
    "\n",
    "path = \"./data/Spherical nanoindentation stress-strain curves of primary-α grains in Ti5-2.5 Ti811 Ti64 Ti6242 \\\n",
    "and Ti6246 alloys/Data Alpha Ti Alloys/\"\n",
    "dataset_names = [d for d in os.listdir(path) if os.path.isdir(os.path.join(path, d))]\n",
    "\n",
    "for dataset_name in dataset_names:\n",
    "    \n",
    "    # create dataset\n",
    "    dataset_resp = create_dataset(clowder_base_uri, \n",
    "                                  name=dataset_name, \n",
    "                                  description=dataset_name, \n",
    "                                  access=\"PUBLIC\", # \"PUBLIC or PRIVATE\"\n",
    "                                  space=[space_id], # put it in a space\n",
    "                                  collection=[collection_id]) # collection id we previously created\n",
    "    \n",
    "    dataset_id = dataset_resp[\"id\"]\n",
    "    print(\"\\n=========\")\n",
    "    print(\"dataset \" + dataset_name + \"(\" + dataset_id + \")\" + \" created.\")\n",
    "    \n",
    "    # create folder\n",
    "    folder_names = [f for f in os.listdir(os.path.join(path, dataset_name))\n",
    "                                          if os.path.isdir(os.path.join(path, dataset_name, f))]\n",
    "    for folder_name in folder_names:\n",
    "        folder_resp = create_folder(clowder_base_uri, \n",
    "                                      folder_name, \n",
    "                                      parentDatasetId=dataset_id, \n",
    "                                      parentId=dataset_id, \n",
    "                                      parentType=\"dataset\")\n",
    "        folder_id = folder_resp[\"id\"]\n",
    "        print(\"folder \" + folder_name + \"(\" + folder_id + \")\" + \" created.\")\n",
    "        \n",
    "        # upload files\n",
    "        file_fullpaths = [os.path.join(path, dataset_name, folder_name, file)\n",
    "                          for file in os.listdir(os.path.join(path, dataset_name, folder_name)) \n",
    "                          if os.path.isfile(os.path.join(path, dataset_name, folder_name, file))]\n",
    "        file_resp = upload_files_to_dataset(clowder_base_uri, dataset_id, folder_id, file_fullpaths)\n",
    "        for f in file_resp[\"ids\"]:\n",
    "            print(\"file \" + f[\"name\"] + \"(\" + f[\"id\"] + \")\" + \" uploaded.\")"
   ]
  },
  {
   "cell_type": "raw",
   "metadata": {},
   "source": [
    "add_user_metadata_to_dataset('6220ecb7e4b01a9f2e1f58b0', {'time':'now','author':'chen','email':'cwang138@illinois.edu'})"
   ]
  },
  {
   "cell_type": "raw",
   "metadata": {},
   "source": [
    "add_user_metadata_to_file('6220ef39e4b01a9f2e1f58dc', {'Audience':'chen wang','lalal':'lalalala'})"
   ]
  }
 ],
 "metadata": {
  "kernelspec": {
   "display_name": "Python 3 (ipykernel)",
   "language": "python",
   "name": "python3"
  },
  "language_info": {
   "codemirror_mode": {
    "name": "ipython",
    "version": 3
   },
   "file_extension": ".py",
   "mimetype": "text/x-python",
   "name": "python",
   "nbconvert_exporter": "python",
   "pygments_lexer": "ipython3",
   "version": "3.8.13"
  }
 },
 "nbformat": 4,
 "nbformat_minor": 2
}
